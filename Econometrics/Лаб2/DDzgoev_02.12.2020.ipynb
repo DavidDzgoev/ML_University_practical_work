{
 "cells": [
  {
   "cell_type": "markdown",
   "metadata": {},
   "source": [
    "# Дзгоев ДЗ 02.12.2020"
   ]
  },
  {
   "cell_type": "code",
   "execution_count": 58,
   "metadata": {},
   "outputs": [],
   "source": [
    "import pandas as pd\n",
    "import numpy as np\n",
    "import matplotlib.pyplot as plt\n",
    "import statsmodels\n",
    "\n",
    "import sklearn.linear_model as lm\n",
    "from sklearn.ensemble import RandomForestClassifier\n",
    "from sklearn.model_selection import learning_curve\n",
    "\n",
    "import statsmodels.stats.api as sms\n",
    "import statsmodels.formula.api as smf\n",
    "from statsmodels.compat import lzip\n"
   ]
  },
  {
   "cell_type": "code",
   "execution_count": 59,
   "metadata": {},
   "outputs": [],
   "source": [
    "# Сначала надо запарсить документ\n",
    "\n",
    "GDP = []\n",
    "OIL = []\n",
    "PER = []\n",
    "PRO = []\n",
    "\n",
    "with open('data.txt') as file:\n",
    "    for line in file:\n",
    "        if line.endswith('рублей\\n'):\n",
    "            line = line.replace('.','').replace(',','.')\n",
    "            amount_of_trillions = [i for i in line.split('–')[1].split('трлн')[0] if i.isdigit()]\n",
    "            amount_of_billions = [i for i in line.split('–')[1].split('трлн')[1] if i.isdigit() or i == '.']\n",
    "            GDP.append(float(''.join(amount_of_trillions))*10**12 + float(''.join(amount_of_billions))*10**9)\n",
    "        \n",
    "        elif line.endswith('доллара США\\n'):\n",
    "            amount_of_dollars = [i for i in line.split('-')[1] if i.isdigit() or i == '.']\n",
    "            OIL.append(float(''.join(amount_of_dollars)))\n",
    "        \n",
    "        elif line.endswith('%\\t\\n') or line.endswith('%\\n'):\n",
    "            line = line.replace(',','.')\n",
    "            percentage = [i for i in line.split('–')[1] if i.isdigit() or i == '.']\n",
    "            PER.append(float(''.join(percentage)))\n",
    "            \n",
    "        elif line.endswith('баррелей\\n'):\n",
    "            line = line.replace(',','.')\n",
    "            amount_of_dollars = [i for i in line.split('–')[1] if i.isdigit() or i == '.']\n",
    "            PRO.append(float(''.join(amount_of_dollars)))\n",
    "\n",
    "data = pd.DataFrame(zip(GDP,OIL,PER,PRO),\n",
    "                    columns=['GDP','OIL','PER','PRO'])"
   ]
  },
  {
   "cell_type": "code",
   "execution_count": 60,
   "metadata": {},
   "outputs": [
    {
     "data": {
      "text/html": [
       "<div>\n",
       "<style scoped>\n",
       "    .dataframe tbody tr th:only-of-type {\n",
       "        vertical-align: middle;\n",
       "    }\n",
       "\n",
       "    .dataframe tbody tr th {\n",
       "        vertical-align: top;\n",
       "    }\n",
       "\n",
       "    .dataframe thead th {\n",
       "        text-align: right;\n",
       "    }\n",
       "</style>\n",
       "<table border=\"1\" class=\"dataframe\">\n",
       "  <thead>\n",
       "    <tr style=\"text-align: right;\">\n",
       "      <th></th>\n",
       "      <th>GDP</th>\n",
       "      <th>OIL</th>\n",
       "      <th>PER</th>\n",
       "      <th>PRO</th>\n",
       "    </tr>\n",
       "  </thead>\n",
       "  <tbody>\n",
       "    <tr>\n",
       "      <th>0</th>\n",
       "      <td>2.007800e+12</td>\n",
       "      <td>20.5</td>\n",
       "      <td>62.4</td>\n",
       "      <td>301.0</td>\n",
       "    </tr>\n",
       "    <tr>\n",
       "      <th>1</th>\n",
       "      <td>2.342500e+12</td>\n",
       "      <td>19.1</td>\n",
       "      <td>66.1</td>\n",
       "      <td>306.0</td>\n",
       "    </tr>\n",
       "    <tr>\n",
       "      <th>2</th>\n",
       "      <td>2.629600e+12</td>\n",
       "      <td>12.7</td>\n",
       "      <td>66.4</td>\n",
       "      <td>303.0</td>\n",
       "    </tr>\n",
       "    <tr>\n",
       "      <th>3</th>\n",
       "      <td>4.823200e+12</td>\n",
       "      <td>17.7</td>\n",
       "      <td>69.1</td>\n",
       "      <td>305.0</td>\n",
       "    </tr>\n",
       "    <tr>\n",
       "      <th>4</th>\n",
       "      <td>7.305600e+12</td>\n",
       "      <td>28.3</td>\n",
       "      <td>70.8</td>\n",
       "      <td>324.0</td>\n",
       "    </tr>\n",
       "  </tbody>\n",
       "</table>\n",
       "</div>"
      ],
      "text/plain": [
       "            GDP   OIL   PER    PRO\n",
       "0  2.007800e+12  20.5  62.4  301.0\n",
       "1  2.342500e+12  19.1  66.1  306.0\n",
       "2  2.629600e+12  12.7  66.4  303.0\n",
       "3  4.823200e+12  17.7  69.1  305.0\n",
       "4  7.305600e+12  28.3  70.8  324.0"
      ]
     },
     "execution_count": 60,
     "metadata": {},
     "output_type": "execute_result"
    }
   ],
   "source": [
    "data.head()"
   ]
  },
  {
   "cell_type": "code",
   "execution_count": 61,
   "metadata": {},
   "outputs": [
    {
     "data": {
      "text/plain": [
       "Text(0.5, 1.0, 'PRO')"
      ]
     },
     "execution_count": 61,
     "metadata": {},
     "output_type": "execute_result"
    },
    {
     "data": {
      "image/png": "[encoded data removed]",
      "text/plain": [
       "<Figure size 432x288 with 4 Axes>"
      ]
     },
     "metadata": {
      "needs_background": "light"
     },
     "output_type": "display_data"
    }
   ],
   "source": [
    "# Взглянем на диаграммы рассеяния \n",
    "\n",
    "fig, axs = plt.subplots(2, 2)\n",
    "axs[0, 0].scatter(data.PER,data.GDP)\n",
    "axs[0, 0].set_title('PER')\n",
    "axs[0, 1].scatter(data.OIL,data.GDP)\n",
    "axs[0, 1].set_title('OIL')\n",
    "axs[1, 0].scatter(data.PRO,data.GDP)\n",
    "axs[1, 0].set_title('PRO')"
   ]
  },
  {
   "cell_type": "markdown",
   "metadata": {},
   "source": [
    "**Вывод**"
   ]
  },
  {
   "cell_type": "markdown",
   "metadata": {},
   "source": [
    "Корреляции между фичами и целевым признаком невидно"
   ]
  },
  {
   "cell_type": "code",
   "execution_count": 62,
   "metadata": {},
   "outputs": [],
   "source": [
    "X = data.drop('GDP',axis=1)\n",
    "y = data.GDP"
   ]
  },
  {
   "cell_type": "code",
   "execution_count": 63,
   "metadata": {},
   "outputs": [
    {
     "name": "stdout",
     "output_type": "stream",
     "text": [
      "0.8593379671356124\n"
     ]
    }
   ],
   "source": [
    "lin = lm.LinearRegression()\n",
    "lin.fit(X, y)\n",
    "\n",
    "print(lin.score(X, y))"
   ]
  },
  {
   "cell_type": "code",
   "execution_count": 64,
   "metadata": {},
   "outputs": [
    {
     "name": "stdout",
     "output_type": "stream",
     "text": [
      "0.8593337343587598\n"
     ]
    }
   ],
   "source": [
    "ridge = lm.Ridge()\n",
    "ridge.fit(X, y)\n",
    "\n",
    "print(ridge.score(X, y))"
   ]
  },
  {
   "cell_type": "code",
   "execution_count": 65,
   "metadata": {},
   "outputs": [
    {
     "name": "stdout",
     "output_type": "stream",
     "text": [
      "0.9747754534301896\n"
     ]
    }
   ],
   "source": [
    "# Лучшая\n",
    "pois = lm.PoissonRegressor()\n",
    "pois.fit(X, y)\n",
    "\n",
    "print(pois.score(X, y))"
   ]
  },
  {
   "cell_type": "code",
   "execution_count": 66,
   "metadata": {},
   "outputs": [
    {
     "name": "stdout",
     "output_type": "stream",
     "text": [
      "0.8588145024264435\n"
     ]
    }
   ],
   "source": [
    "pois = lm.ElasticNet()\n",
    "pois.fit(X, y)\n",
    "\n",
    "print(pois.score(X, y))"
   ]
  },
  {
   "cell_type": "markdown",
   "metadata": {},
   "source": [
    "**Вывод**"
   ]
  },
  {
   "cell_type": "markdown",
   "metadata": {},
   "source": [
    "Лучшую точность показала пуассоновская регрессия (или же лог-линейная регрессия). Думаю это связано с тем, что распределение нашой выборки ближе к распределению Пуассона, чем к Гауссову распределению\n",
    "\n",
    "Модель считаю точной"
   ]
  },
  {
   "cell_type": "markdown",
   "metadata": {},
   "source": [
    "**Также нужно проверить предпосылки о гомоскедостичности**"
   ]
  },
  {
   "cell_type": "code",
   "execution_count": 67,
   "metadata": {},
   "outputs": [],
   "source": [
    "results = smf.ols('GDP ~ PER + OIL + PRO', data=data).fit()"
   ]
  },
  {
   "cell_type": "code",
   "execution_count": 68,
   "metadata": {},
   "outputs": [
    {
     "data": {
      "text/plain": [
       "[('F statistic', 5.593858715326296), ('p-value', 0.012590362430542186)]"
      ]
     },
     "execution_count": 68,
     "metadata": {},
     "output_type": "execute_result"
    }
   ],
   "source": [
    "# тест Гольдфельда-Квандта\n",
    "name = ['F statistic', 'p-value']\n",
    "test = sms.het_goldfeldquandt(results.resid, results.model.exog)\n",
    "lzip(name, test)"
   ]
  },
  {
   "cell_type": "code",
   "execution_count": 69,
   "metadata": {},
   "outputs": [
    {
     "data": {
      "text/plain": [
       "[('F statistic', 7.971864766008298), ('p-value', 0.046596768988980436)]"
      ]
     },
     "execution_count": 69,
     "metadata": {},
     "output_type": "execute_result"
    }
   ],
   "source": [
    "# тест Бройша-Пагана\n",
    "name = ['F statistic', 'p-value']\n",
    "test = sms.het_breuschpagan(results.resid, results.model.exog)\n",
    "lzip(name, test)"
   ]
  },
  {
   "cell_type": "markdown",
   "metadata": {},
   "source": [
    "**Вывод**"
   ]
  },
  {
   "cell_type": "markdown",
   "metadata": {},
   "source": [
    "Можно заметить, что модель устойчивая к гетероскедастичности"
   ]
  },
  {
   "cell_type": "markdown",
   "metadata": {},
   "source": [
    "**И наконец проверим предпосылки об автокорреляции**"
   ]
  },
  {
   "cell_type": "code",
   "execution_count": 70,
   "metadata": {},
   "outputs": [
    {
     "data": {
      "text/plain": [
       "0.274719298241711"
      ]
     },
     "execution_count": 70,
     "metadata": {},
     "output_type": "execute_result"
    }
   ],
   "source": [
    "statsmodels.stats.stattools.durbin_watson(results.resid, axis=0)"
   ]
  },
  {
   "cell_type": "code",
   "execution_count": 71,
   "metadata": {},
   "outputs": [
    {
     "name": "stdout",
     "output_type": "stream",
     "text": [
      "F статистика - 9.8, p-value - 0.0\n"
     ]
    },
    {
     "name": "stderr",
     "output_type": "stream",
     "text": [
      "/home/romes_papa/anaconda3/lib/python3.8/site-packages/statsmodels/stats/diagnostic.py:622: FutureWarning: The default value of nlags is changing.  After 0.12, this value will become min(10, nobs//5). Directly setmaxlags or period to silence this warning.\n",
      "  warnings.warn(\"The default value of nlags is changing.  After 0.12, \"\n",
      "/home/romes_papa/anaconda3/lib/python3.8/site-packages/statsmodels/stats/diagnostic.py:645: FutureWarning: autolag is deprecated and will be removed after 0.12. Model selection before testing fails to control test size. Set autolag to False to silence this warning.\n",
      "  warnings.warn(\"autolag is deprecated and will be removed after 0.12. \"\n"
     ]
    }
   ],
   "source": [
    "_, __, F, pv = statsmodels.stats.diagnostic.acorr_lm(results.resid, nlags=None, autolag='AIC')\n",
    "print('F статистика - {}, p-value - {}'.format(round(F, 2),round(pv, 2)))"
   ]
  },
  {
   "cell_type": "markdown",
   "metadata": {},
   "source": [
    "**Вывод**"
   ]
  },
  {
   "cell_type": "markdown",
   "metadata": {},
   "source": [
    "Можно заметить, что автокорреляция отсутсвует"
   ]
  },
  {
   "cell_type": "markdown",
   "metadata": {},
   "source": [
    "**Тестовый прогноз**"
   ]
  },
  {
   "cell_type": "code",
   "execution_count": 72,
   "metadata": {},
   "outputs": [],
   "source": [
    "# Смоделируем данные в соответствии с условием\n",
    "test = X.iloc[23]\n",
    "\n",
    "test[0] = 44.46\n",
    "test[1] = 92\n",
    "test[2] = test[2] - 9*(test[2]/100)\n",
    "\n",
    "test_target = y.iloc[23] - 6*(y.iloc[23]/100)"
   ]
  },
  {
   "cell_type": "code",
   "execution_count": 73,
   "metadata": {},
   "outputs": [],
   "source": [
    "test_result = pois.predict(np.asarray(test).reshape(1,3))"
   ]
  },
  {
   "cell_type": "code",
   "execution_count": 74,
   "metadata": {},
   "outputs": [
    {
     "data": {
      "text/plain": [
       "19745928672770.75"
      ]
     },
     "execution_count": 74,
     "metadata": {},
     "output_type": "execute_result"
    }
   ],
   "source": [
    "# Ошибка прогноза \n",
    "abs(test_result[0] - test_target)"
   ]
  },
  {
   "cell_type": "markdown",
   "metadata": {},
   "source": [
    "# Выводы"
   ]
  },
  {
   "cell_type": "markdown",
   "metadata": {},
   "source": [
    "1. Выборка ближе к распределению Пуассона\n",
    "2. Автокорреляция отуствует\n",
    "3. Гетероскедостичность отсутствует "
   ]
  },
  {
   "cell_type": "code",
   "execution_count": null,
   "metadata": {},
   "outputs": [],
   "source": []
  }
 ],
 "metadata": {
  "kernelspec": {
   "display_name": "Python 3",
   "language": "python",
   "name": "python3"
  },
  "language_info": {
   "codemirror_mode": {
    "name": "ipython",
    "version": 3
   },
   "file_extension": ".py",
   "mimetype": "text/x-python",
   "name": "python",
   "nbconvert_exporter": "python",
   "pygments_lexer": "ipython3",
   "version": "3.8.2"
  }
 },
 "nbformat": 4,
 "nbformat_minor": 4
}
