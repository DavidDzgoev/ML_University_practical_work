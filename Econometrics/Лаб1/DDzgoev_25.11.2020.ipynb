{
 "cells": [
  {
   "cell_type": "markdown",
   "metadata": {},
   "source": [
    "# Дзгоев ДЗ 25.11.2020"
   ]
  },
  {
   "cell_type": "code",
   "execution_count": 105,
   "metadata": {},
   "outputs": [],
   "source": [
    "# Не забудь удалить лишнее\n",
    "import pandas as pd\n",
    "import numpy as np\n",
    "import seaborn as sns\n",
    "import matplotlib.pyplot as plt\n",
    "\n",
    "from sklearn import linear_model as lm\n",
    "from sklearn.preprocessing import PolynomialFeatures\n",
    "from sklearn.pipeline import make_pipeline\n",
    "from sklearn.linear_model import LinearRegression\n",
    "from sklearn import preprocessing\n",
    "from sklearn.model_selection import train_test_split\n",
    "\n",
    "import os"
   ]
  },
  {
   "cell_type": "code",
   "execution_count": 106,
   "metadata": {},
   "outputs": [
    {
     "data": {
      "text/html": [
       "<div>\n",
       "<style scoped>\n",
       "    .dataframe tbody tr th:only-of-type {\n",
       "        vertical-align: middle;\n",
       "    }\n",
       "\n",
       "    .dataframe tbody tr th {\n",
       "        vertical-align: top;\n",
       "    }\n",
       "\n",
       "    .dataframe thead th {\n",
       "        text-align: right;\n",
       "    }\n",
       "</style>\n",
       "<table border=\"1\" class=\"dataframe\">\n",
       "  <thead>\n",
       "    <tr style=\"text-align: right;\">\n",
       "      <th></th>\n",
       "      <th>date</th>\n",
       "      <th>total_cases</th>\n",
       "      <th>new_cases</th>\n",
       "      <th>PTC</th>\n",
       "    </tr>\n",
       "  </thead>\n",
       "  <tbody>\n",
       "    <tr>\n",
       "      <th>0</th>\n",
       "      <td>2020-03-12</td>\n",
       "      <td>25</td>\n",
       "      <td>15</td>\n",
       "      <td>966</td>\n",
       "    </tr>\n",
       "    <tr>\n",
       "      <th>1</th>\n",
       "      <td>2020-03-13</td>\n",
       "      <td>30</td>\n",
       "      <td>5</td>\n",
       "      <td>991</td>\n",
       "    </tr>\n",
       "    <tr>\n",
       "      <th>2</th>\n",
       "      <td>2020-03-14</td>\n",
       "      <td>45</td>\n",
       "      <td>15</td>\n",
       "      <td>#Н/Д</td>\n",
       "    </tr>\n",
       "    <tr>\n",
       "      <th>3</th>\n",
       "      <td>2020-03-15</td>\n",
       "      <td>59</td>\n",
       "      <td>14</td>\n",
       "      <td>#Н/Д</td>\n",
       "    </tr>\n",
       "    <tr>\n",
       "      <th>4</th>\n",
       "      <td>2020-03-16</td>\n",
       "      <td>63</td>\n",
       "      <td>4</td>\n",
       "      <td>966</td>\n",
       "    </tr>\n",
       "  </tbody>\n",
       "</table>\n",
       "</div>"
      ],
      "text/plain": [
       "         date  total_cases  new_cases   PTC\n",
       "0  2020-03-12           25         15   966\n",
       "1  2020-03-13           30          5   991\n",
       "2  2020-03-14           45         15  #Н/Д\n",
       "3  2020-03-15           59         14  #Н/Д\n",
       "4  2020-03-16           63          4   966"
      ]
     },
     "execution_count": 106,
     "metadata": {},
     "output_type": "execute_result"
    }
   ],
   "source": [
    "# Собираем датафрейм\n",
    "data = pd.read_csv('X.txt', sep = '\\t')\n",
    "data['new_cases'] = pd.read_csv('X2.txt', sep = '\\t')['new_cases']\n",
    "data['PTC'] = pd.read_csv('PTC.txt', sep = '\\t',decimal=',')['CLOSE']\n",
    "data.head()"
   ]
  },
  {
   "cell_type": "code",
   "execution_count": 107,
   "metadata": {},
   "outputs": [],
   "source": [
    "# Предобработка данных\n",
    "data.replace('#Н/Д',0,inplace=True)# тут шаманим с РТС, потому что там были пропуски\n",
    "data.PTC = data.PTC.astype('int32')\n",
    "\n",
    "array = []\n",
    "for i in data.PTC:\n",
    "    if i != 0:\n",
    "        array.append(i)\n",
    "        \n",
    "data.replace(0,np.mean(array),inplace=True)\n",
    "\n",
    "data.date = range(data.shape[0])# меняем дату"
   ]
  },
  {
   "cell_type": "markdown",
   "metadata": {},
   "source": [
    "## Total cases от date"
   ]
  },
  {
   "cell_type": "code",
   "execution_count": 108,
   "metadata": {},
   "outputs": [],
   "source": [
    "# Делим данные\n",
    "x_train, x_test, y_train, y_test = train_test_split(data.date, data.total_cases, test_size = 0.3, random_state = 1)"
   ]
  },
  {
   "cell_type": "code",
   "execution_count": 109,
   "metadata": {},
   "outputs": [],
   "source": [
    "reg = lm.LinearRegression() \n",
    "\n",
    "x_train = x_train.values.reshape(-1,1)\n",
    "x_test = x_test.values.reshape(-1,1)"
   ]
  },
  {
   "cell_type": "code",
   "execution_count": 110,
   "metadata": {
    "scrolled": true
   },
   "outputs": [
    {
     "data": {
      "text/plain": [
       "0.9813624267299619"
      ]
     },
     "execution_count": 110,
     "metadata": {},
     "output_type": "execute_result"
    }
   ],
   "source": [
    "reg.fit(x_train, y_train)\n",
    "predicted = reg.predict(x_train)\n",
    "reg.score(x_test,y_test)"
   ]
  },
  {
   "cell_type": "code",
   "execution_count": 111,
   "metadata": {},
   "outputs": [
    {
     "data": {
      "text/plain": [
       "0.9813624267299619"
      ]
     },
     "execution_count": 111,
     "metadata": {},
     "output_type": "execute_result"
    }
   ],
   "source": [
    "# Неплохо, но..\n",
    "reg.score(x_test,y_test)"
   ]
  },
  {
   "cell_type": "code",
   "execution_count": 112,
   "metadata": {},
   "outputs": [
    {
     "data": {
      "text/plain": [
       "0.9996419740372113"
      ]
     },
     "execution_count": 112,
     "metadata": {},
     "output_type": "execute_result"
    }
   ],
   "source": [
    "# Посмотрим на полиномиальнуую регрессию\n",
    "degree=5\n",
    "polyreg=make_pipeline(PolynomialFeatures(degree),LinearRegression())\n",
    "polyreg.fit(x_train,y_train)\n",
    "\n",
    "# Считаю результат великолепным\n",
    "polyreg.score(x_test,y_test)"
   ]
  },
  {
   "cell_type": "code",
   "execution_count": 113,
   "metadata": {},
   "outputs": [
    {
     "data": {
      "image/png": "[encoded data removed]",
      "text/plain": [
       "<Figure size 432x288 with 1 Axes>"
      ]
     },
     "metadata": {
      "needs_background": "light"
     },
     "output_type": "display_data"
    }
   ],
   "source": [
    "X_seq = np.linspace(x_test.min(),x_test.max(),300).reshape(-1,1)\n",
    "plt.figure()\n",
    "plt.scatter(x_train,y_train)\n",
    "plt.plot(X_seq,polyreg.predict(X_seq),color=\"r\")\n",
    "plt.title(\"Степень полинома \"+str(degree))\n",
    "plt.show()"
   ]
  },
  {
   "cell_type": "markdown",
   "metadata": {},
   "source": [
    "**Вывод**"
   ]
  },
  {
   "cell_type": "markdown",
   "metadata": {},
   "source": [
    "Полиномиальная регрессия показывает лучшую точность, в сравнении с линейной. \n",
    "\n",
    "Руками перебрал все степени и 5ая лучше всего описывает наши данные. \n",
    "\n",
    "Точность крайне близка 1, модель считаю точной."
   ]
  },
  {
   "cell_type": "code",
   "execution_count": 114,
   "metadata": {},
   "outputs": [],
   "source": [
    "# Сохраним прогноз на зиму\n",
    "winter_days = np.asarray(range(243,342))\n",
    "winter_days = winter_days.reshape(-1,1)\n",
    "winter_total_cases = polyreg.predict(winter_days)"
   ]
  },
  {
   "cell_type": "markdown",
   "metadata": {},
   "source": [
    "## New cases от date"
   ]
  },
  {
   "cell_type": "code",
   "execution_count": 115,
   "metadata": {},
   "outputs": [],
   "source": [
    "# Делим данные\n",
    "x_train, x_test, y_train, y_test = train_test_split(data.date, data.new_cases, test_size = 0.3, random_state = 1)"
   ]
  },
  {
   "cell_type": "code",
   "execution_count": 116,
   "metadata": {},
   "outputs": [],
   "source": [
    "reg = lm.LinearRegression() \n",
    "\n",
    "x_train = x_train.values.reshape(-1,1)\n",
    "x_test = x_test.values.reshape(-1,1)"
   ]
  },
  {
   "cell_type": "code",
   "execution_count": 117,
   "metadata": {},
   "outputs": [],
   "source": [
    "reg.fit(x_train, y_train)\n",
    "predicted = reg.predict(x_train)"
   ]
  },
  {
   "cell_type": "code",
   "execution_count": 118,
   "metadata": {},
   "outputs": [
    {
     "data": {
      "text/plain": [
       "0.44974240071196503"
      ]
     },
     "execution_count": 118,
     "metadata": {},
     "output_type": "execute_result"
    }
   ],
   "source": [
    "# Чуть лучше, чем пальцем в небо\n",
    "reg.score(x_test,y_test)"
   ]
  },
  {
   "cell_type": "code",
   "execution_count": 119,
   "metadata": {},
   "outputs": [
    {
     "data": {
      "text/plain": [
       "0.9716881059853473"
      ]
     },
     "execution_count": 119,
     "metadata": {},
     "output_type": "execute_result"
    }
   ],
   "source": [
    "# Посмотрим на полиномиальнуую регрессию\n",
    "degree=8\n",
    "polyreg=make_pipeline(PolynomialFeatures(degree),LinearRegression())\n",
    "polyreg.fit(x_train,y_train)\n",
    "\n",
    "# Считаю результат великолепным х2\n",
    "polyreg.score(x_test,y_test)"
   ]
  },
  {
   "cell_type": "code",
   "execution_count": 120,
   "metadata": {},
   "outputs": [
    {
     "data": {
      "image/png": "[encoded data removed]",
      "text/plain": [
       "<Figure size 432x288 with 1 Axes>"
      ]
     },
     "metadata": {
      "needs_background": "light"
     },
     "output_type": "display_data"
    }
   ],
   "source": [
    "X_seq = np.linspace(x_test.min(),x_test.max(),300).reshape(-1,1)\n",
    "plt.figure()\n",
    "plt.scatter(x_train,y_train)\n",
    "plt.plot(X_seq,polyreg.predict(X_seq),color=\"r\")\n",
    "plt.title(\"Степень полинома \"+str(degree))\n",
    "plt.show()"
   ]
  },
  {
   "cell_type": "markdown",
   "metadata": {},
   "source": [
    "**Вывод**"
   ]
  },
  {
   "cell_type": "markdown",
   "metadata": {},
   "source": [
    "Полиномиальная регрессия также показывает лучшую точность, в сравнении с линейной. \n",
    "\n",
    "Руками перебрал все степени и 8ая лучше всего описывает наши данные. К сожалению не удается отловить пик измерений (в районе 60 дня), поэтому точность чуть хуже.\n",
    "\n",
    "Тем не менее, точность крайне близка 1, модель считаю точной."
   ]
  },
  {
   "cell_type": "code",
   "execution_count": 121,
   "metadata": {},
   "outputs": [],
   "source": [
    "# Сохраним прогноз на зиму\n",
    "winter_days = np.asarray(range(243,342))\n",
    "winter_days = winter_days.reshape(-1,1)\n",
    "winter_new_cases = polyreg.predict(winter_days)"
   ]
  },
  {
   "cell_type": "markdown",
   "metadata": {},
   "source": [
    "## Тестовый прогноз"
   ]
  },
  {
   "cell_type": "code",
   "execution_count": 122,
   "metadata": {},
   "outputs": [
    {
     "name": "stdout",
     "output_type": "stream",
     "text": [
      "День - 24, реальные данные - 582, прогноз модели - 1625.7151672081682\n",
      "Дельта - 1043.7151672081682\n"
     ]
    }
   ],
   "source": [
    "# Довольно большая дельта, потому что реально точные прогнозы модель дает после пика в марте\n",
    "test_day = np.asarray([24])\n",
    "test_day = test_day.reshape(-1,1)\n",
    "test_case = polyreg.predict(test_day)\n",
    "test_case\n",
    "\n",
    "i = np.where(x_train==24)[0][0]\n",
    "print(f'День - {x_train[i][0]}, реальные данные - {y_train.values[i]}, прогноз модели - {test_case[0]}')\n",
    "print(f'Дельта - {(test_case - y_train.values[i])[0]}')"
   ]
  },
  {
   "cell_type": "code",
   "execution_count": 123,
   "metadata": {},
   "outputs": [
    {
     "name": "stdout",
     "output_type": "stream",
     "text": [
      "День - 100, реальные данные - 7972, прогноз модели - 8000.142066724393\n",
      "Дельта - 28.142066724392862\n"
     ]
    }
   ],
   "source": [
    "# Пример для дня из конца весны-начала лета\n",
    "test_day = np.asarray([100])\n",
    "test_day = test_day.reshape(-1,1)\n",
    "test_case = polyreg.predict(test_day)\n",
    "test_case\n",
    "\n",
    "i = np.where(x_train==100)[0][0]\n",
    "print(f'День - {x_train[i][0]}, реальные данные - {y_train.values[i]}, прогноз модели - {test_case[0]}')\n",
    "print(f'Дельта - {(test_case - y_train.values[i])[0]}')"
   ]
  },
  {
   "cell_type": "code",
   "execution_count": 124,
   "metadata": {},
   "outputs": [
    {
     "name": "stdout",
     "output_type": "stream",
     "text": [
      "День - 175, реальные данные - 4952, прогноз модели - 5089.306533001274\n",
      "Дельта - 137.30653300127415\n"
     ]
    }
   ],
   "source": [
    "# Пример для дня из конца лета-начала осени\n",
    "test_day = np.asarray([175])\n",
    "test_day = test_day.reshape(-1,1)\n",
    "test_case = polyreg.predict(test_day)\n",
    "test_case\n",
    "\n",
    "i = np.where(x_train==175)[0][0]\n",
    "print(f'День - {x_train[i][0]}, реальные данные - {y_train.values[i]}, прогноз модели - {test_case[0]}')\n",
    "print(f'Дельта - {(test_case - y_train.values[i])[0]}')"
   ]
  },
  {
   "cell_type": "markdown",
   "metadata": {},
   "source": [
    "**Вывод**"
   ]
  },
  {
   "cell_type": "markdown",
   "metadata": {},
   "source": [
    "Прогноз на весну имеет большую дельту, потому что точность модель набирает с увеличением дней, поэтому уже ближе к лету или осени дельта падает."
   ]
  },
  {
   "cell_type": "markdown",
   "metadata": {},
   "source": [
    "## PTC от new cases + date"
   ]
  },
  {
   "cell_type": "code",
   "execution_count": 125,
   "metadata": {},
   "outputs": [],
   "source": [
    "X = data.drop(['PTC','total_cases'],axis=1)\n",
    "y = data.PTC"
   ]
  },
  {
   "cell_type": "code",
   "execution_count": 126,
   "metadata": {},
   "outputs": [],
   "source": [
    "# Делим данные\n",
    "x_train, x_test, y_train, y_test = train_test_split(X, y, test_size = 0.3, random_state = 1)"
   ]
  },
  {
   "cell_type": "code",
   "execution_count": 127,
   "metadata": {},
   "outputs": [
    {
     "data": {
      "text/plain": [
       "0.1575844190441945"
      ]
     },
     "execution_count": 127,
     "metadata": {},
     "output_type": "execute_result"
    }
   ],
   "source": [
    "reg = lm.LinearRegression() \n",
    "reg.fit(x_train, y_train)\n",
    "predicted = reg.predict(x_train)\n",
    "\n",
    "reg.score(x_test,y_test)"
   ]
  },
  {
   "cell_type": "code",
   "execution_count": 174,
   "metadata": {},
   "outputs": [
    {
     "data": {
      "text/plain": [
       "0.6503506317619165"
      ]
     },
     "execution_count": 174,
     "metadata": {},
     "output_type": "execute_result"
    }
   ],
   "source": [
    "# Посмотрим на полиномиальнуую регрессию\n",
    "degree=2\n",
    "polyreg=make_pipeline(PolynomialFeatures(degree),LinearRegression())\n",
    "polyreg.fit(x_train,y_train)\n",
    "\n",
    "# Ни о чем\n",
    "polyreg.score(x_test,y_test)"
   ]
  },
  {
   "cell_type": "code",
   "execution_count": 175,
   "metadata": {},
   "outputs": [],
   "source": [
    "# Среднее РТС = 1174.5180722891566\n",
    "# Так как я заполнял данные средним, их теперь надо вытащить\n",
    "y_for_plt = []\n",
    "x_for_plt = []\n",
    "\n",
    "for i,j in enumerate(y_train):\n",
    "    if j!= 1174.5180722891566:\n",
    "        y_for_plt.append(j)\n",
    "        x_for_plt.append(x_train.date.values[i])\n",
    "        "
   ]
  },
  {
   "cell_type": "code",
   "execution_count": 176,
   "metadata": {},
   "outputs": [
    {
     "data": {
      "image/png": "[encoded data removed]",
      "text/plain": [
       "<Figure size 432x288 with 1 Axes>"
      ]
     },
     "metadata": {
      "needs_background": "light"
     },
     "output_type": "display_data"
    }
   ],
   "source": [
    "X_seq = np.linspace(0,250,250).reshape(-1,1)\n",
    "\n",
    "plt.figure()\n",
    "plt.scatter(x_for_plt,y_for_plt)\n",
    "plt.plot(x_train.sort_values(by=['date']).date.values,\n",
    "         polyreg.predict(x_train.sort_values(by=['date'])),color=\"r\")\n",
    "plt.title(\"Степень полинома \"+str(degree))\n",
    "plt.show()"
   ]
  },
  {
   "cell_type": "markdown",
   "metadata": {},
   "source": [
    "**Вывод**"
   ]
  },
  {
   "cell_type": "markdown",
   "metadata": {},
   "source": [
    "Полиномиальная регрессия показывает лучшую точность, в сравнении с линейной. \n",
    "\n",
    "Руками перебрал все степени и 2ая лучше всего описывает наши данные. \n",
    "\n",
    "Точность низкая, лучше чем ничего, но моделью пользоваться я бы не стал."
   ]
  },
  {
   "cell_type": "markdown",
   "metadata": {},
   "source": [
    "## PTC от total cases + date"
   ]
  },
  {
   "cell_type": "code",
   "execution_count": 179,
   "metadata": {},
   "outputs": [],
   "source": [
    "X = data.drop(['PTC','new_cases'],axis=1)\n",
    "y = data.PTC"
   ]
  },
  {
   "cell_type": "code",
   "execution_count": 180,
   "metadata": {},
   "outputs": [],
   "source": [
    "# Делим данные\n",
    "x_train, x_test, y_train, y_test = train_test_split(X, y, test_size = 0.3, random_state = 1)"
   ]
  },
  {
   "cell_type": "code",
   "execution_count": 181,
   "metadata": {},
   "outputs": [
    {
     "data": {
      "text/plain": [
       "0.17173590571079245"
      ]
     },
     "execution_count": 181,
     "metadata": {},
     "output_type": "execute_result"
    }
   ],
   "source": [
    "reg = lm.LinearRegression() \n",
    "reg.fit(x_train, y_train)\n",
    "predicted = reg.predict(x_train)\n",
    "\n",
    "reg.score(x_test,y_test)"
   ]
  },
  {
   "cell_type": "code",
   "execution_count": 187,
   "metadata": {},
   "outputs": [
    {
     "data": {
      "text/plain": [
       "0.6166668762071204"
      ]
     },
     "execution_count": 187,
     "metadata": {},
     "output_type": "execute_result"
    }
   ],
   "source": [
    "# Посмотрим на полиномиальнуую регрессию\n",
    "degree=2\n",
    "polyreg=make_pipeline(PolynomialFeatures(degree),LinearRegression())\n",
    "polyreg.fit(x_train,y_train)\n",
    "\n",
    "# Ни о чем\n",
    "polyreg.score(x_test,y_test)"
   ]
  },
  {
   "cell_type": "code",
   "execution_count": 188,
   "metadata": {},
   "outputs": [],
   "source": [
    "# Среднее РТС = 1174.5180722891566\n",
    "# Так как я заполнял данные средним, их теперь надо вытащить\n",
    "y_for_plt = []\n",
    "x_for_plt = []\n",
    "\n",
    "for i,j in enumerate(y_train):\n",
    "    if j!= 1174.5180722891566:\n",
    "        y_for_plt.append(j)\n",
    "        x_for_plt.append(x_train.date.values[i])"
   ]
  },
  {
   "cell_type": "code",
   "execution_count": 189,
   "metadata": {},
   "outputs": [
    {
     "data": {
      "image/png": "[encoded data removed]",
      "text/plain": [
       "<Figure size 432x288 with 1 Axes>"
      ]
     },
     "metadata": {
      "needs_background": "light"
     },
     "output_type": "display_data"
    }
   ],
   "source": [
    "X_seq = np.linspace(0,250,250).reshape(-1,1)\n",
    "\n",
    "plt.figure()\n",
    "plt.scatter(x_for_plt,y_for_plt)\n",
    "plt.plot(x_train.sort_values(by=['date']).date.values,\n",
    "         polyreg.predict(x_train.sort_values(by=['date'])),color=\"r\")\n",
    "plt.title(\"Степень полинома \"+str(degree))\n",
    "plt.show()"
   ]
  },
  {
   "cell_type": "markdown",
   "metadata": {},
   "source": [
    "**Вывод**"
   ]
  },
  {
   "cell_type": "markdown",
   "metadata": {},
   "source": [
    "Полиномиальная регрессия показывает лучшую точность, в сравнении с линейной. \n",
    "\n",
    "Руками перебрал все степени и 2ая лучше всего описывает наши данные. \n",
    "\n",
    "Точность низкая, лучше чем ничего, но моделью пользоваться я бы не стал."
   ]
  },
  {
   "cell_type": "markdown",
   "metadata": {},
   "source": [
    "## PTC от total cases + new cases + date"
   ]
  },
  {
   "cell_type": "code",
   "execution_count": 191,
   "metadata": {},
   "outputs": [],
   "source": [
    "X = data.drop(['PTC'],axis=1)\n",
    "y = data.PTC"
   ]
  },
  {
   "cell_type": "code",
   "execution_count": 192,
   "metadata": {},
   "outputs": [],
   "source": [
    "# Делим данные\n",
    "x_train, x_test, y_train, y_test = train_test_split(X, y, test_size = 0.3, random_state = 1)"
   ]
  },
  {
   "cell_type": "code",
   "execution_count": 193,
   "metadata": {},
   "outputs": [
    {
     "data": {
      "text/plain": [
       "0.1498509244232743"
      ]
     },
     "execution_count": 193,
     "metadata": {},
     "output_type": "execute_result"
    }
   ],
   "source": [
    "reg = lm.LinearRegression() \n",
    "reg.fit(x_train, y_train)\n",
    "predicted = reg.predict(x_train)\n",
    "\n",
    "reg.score(x_test,y_test)"
   ]
  },
  {
   "cell_type": "code",
   "execution_count": 194,
   "metadata": {},
   "outputs": [
    {
     "data": {
      "text/plain": [
       "0.6503506317619165"
      ]
     },
     "execution_count": 194,
     "metadata": {},
     "output_type": "execute_result"
    }
   ],
   "source": [
    "# Посмотрим на полиномиальнуую регрессию\n",
    "degree=2\n",
    "polyreg=make_pipeline(PolynomialFeatures(degree),LinearRegression())\n",
    "polyreg.fit(x_train,y_train)\n",
    "\n",
    "# Ни о чем\n",
    "polyreg.score(x_test,y_test)"
   ]
  },
  {
   "cell_type": "code",
   "execution_count": 195,
   "metadata": {},
   "outputs": [],
   "source": [
    "# Среднее РТС = 1174.5180722891566\n",
    "# Так как я заполнял данные средним, их теперь надо вытащить\n",
    "y_for_plt = []\n",
    "x_for_plt = []\n",
    "\n",
    "for i,j in enumerate(y_train):\n",
    "    if j!= 1174.5180722891566:\n",
    "        y_for_plt.append(j)\n",
    "        x_for_plt.append(x_train.date.values[i])"
   ]
  },
  {
   "cell_type": "code",
   "execution_count": 196,
   "metadata": {},
   "outputs": [
    {
     "data": {
      "image/png": "[encoded data removed]",
      "text/plain": [
       "<Figure size 432x288 with 1 Axes>"
      ]
     },
     "metadata": {
      "needs_background": "light"
     },
     "output_type": "display_data"
    }
   ],
   "source": [
    "X_seq = np.linspace(0,250,250).reshape(-1,1)\n",
    "\n",
    "plt.figure()\n",
    "plt.scatter(x_for_plt,y_for_plt)\n",
    "plt.plot(x_train.sort_values(by=['date']).date.values,\n",
    "         polyreg.predict(x_train.sort_values(by=['date'])),color=\"r\")\n",
    "plt.title(\"Степень полинома \"+str(degree))\n",
    "plt.show()"
   ]
  },
  {
   "cell_type": "markdown",
   "metadata": {},
   "source": [
    "**Вывод**"
   ]
  },
  {
   "cell_type": "markdown",
   "metadata": {},
   "source": [
    "Полиномиальная регрессия показывает лучшую точность, в сравнении с линейной. \n",
    "\n",
    "Руками перебрал все степени и 2ая лучше всего описывает наши данные. \n",
    "\n",
    "Точность низкая, лучше чем ничего, но моделью пользоваться я бы не стал."
   ]
  },
  {
   "cell_type": "code",
   "execution_count": 143,
   "metadata": {},
   "outputs": [
    {
     "name": "stdout",
     "output_type": "stream",
     "text": [
      "0.6569740361806607\n"
     ]
    },
    {
     "data": {
      "image/png": "[encoded data removed]",
      "text/plain": [
       "<Figure size 720x360 with 1 Axes>"
      ]
     },
     "metadata": {
      "needs_background": "light"
     },
     "output_type": "display_data"
    }
   ],
   "source": [
    "# Проверим на переобучение\n",
    "training_scores = []\n",
    "test_scores = []\n",
    "numbers = []\n",
    "\n",
    "for i in np.linspace(20, len(x_train), 20):\n",
    "    polyreg=make_pipeline(PolynomialFeatures(degree),LinearRegression())\n",
    "    X = x_train[:int(i)]\n",
    "    y = y_train[:int(i)]\n",
    "    polyreg.fit(X, y)\n",
    "    numbers.append(int(i))\n",
    "    training_scores.append(polyreg.score(x_train, y_train))\n",
    "    test_scores.append(polyreg.score(x_test, y_test))\n",
    "\n",
    "plt.figure(figsize=(10, 5))\n",
    "plt.plot(numbers, training_scores, label=\"training scores\")\n",
    "plt.plot(numbers, test_scores, label=\"test scores\")\n",
    "plt.legend(loc=\"best\")\n",
    "print(max(test_scores))"
   ]
  },
  {
   "cell_type": "markdown",
   "metadata": {},
   "source": [
    "**Вывод**"
   ]
  },
  {
   "cell_type": "markdown",
   "metadata": {},
   "source": [
    "На кривой явно видно недообучение"
   ]
  },
  {
   "cell_type": "markdown",
   "metadata": {},
   "source": [
    "## И наконец финал"
   ]
  },
  {
   "cell_type": "code",
   "execution_count": 144,
   "metadata": {
    "scrolled": false
   },
   "outputs": [
    {
     "name": "stdout",
     "output_type": "stream",
     "text": [
      "День зимы #0, РТС - 845.5252536616551\n",
      "День зимы #1, РТС - 790.3085210219695\n",
      "День зимы #2, РТС - 731.7013479563664\n",
      "День зимы #3, РТС - 670.8742334806063\n",
      "День зимы #4, РТС - 609.443965745352\n",
      "День зимы #5, РТС - 549.563490834398\n",
      "День зимы #6, РТС - 494.02497582791943\n",
      "День зимы #7, РТС - 446.3776007860422\n",
      "День зимы #8, РТС - 411.0617601031979\n",
      "День зимы #9, РТС - 393.56151089015543\n",
      "День зимы #10, РТС - 400.57727542656517\n",
      "День зимы #11, РТС - 440.2209870152344\n",
      "День зимы #12, РТС - 522.2360646241357\n",
      "День зимы #13, РТС - 658.244812348368\n",
      "День зимы #14, РТС - 862.0260658663208\n",
      "День зимы #15, РТС - 1149.826150688037\n",
      "День зимы #16, РТС - 1540.7064769636888\n",
      "День зимы #17, РТС - 2056.931374236525\n",
      "День зимы #18, РТС - 2724.4000674541494\n",
      "День зимы #19, РТС - 3573.1270145521976\n",
      "День зимы #20, РТС - 4637.775166397672\n",
      "День зимы #21, РТС - 5958.247074000441\n",
      "День зимы #22, РТС - 7580.339156062555\n",
      "День зимы #23, РТС - 9556.464854358353\n",
      "День зимы #24, РТС - 11946.452845740021\n",
      "День зимы #25, РТС - 14818.426950195124\n",
      "День зимы #26, РТС - 18249.77487499842\n",
      "День зимы #27, РТС - 22328.213467453093\n",
      "День зимы #28, РТС - 27152.95871592314\n",
      "День зимы #29, РТС - 32836.00934029944\n",
      "День зимы #30, РТС - 39503.553452741\n",
      "День зимы #31, РТС - 47297.50844863304\n",
      "День зимы #32, РТС - 56377.20500756623\n",
      "День зимы #33, РТС - 66921.22684833345\n",
      "День зимы #34, РТС - 79129.41869161776\n",
      "День зимы #35, РТС - 93225.07574094909\n",
      "День зимы #36, РТС - 109457.32890212905\n",
      "День зимы #37, РТС - 128103.74092132808\n",
      "День зимы #38, РТС - 149473.129638869\n",
      "День зимы #39, РТС - 173908.63563159577\n",
      "День зимы #40, РТС - 201791.0526530304\n",
      "День зимы #41, РТС - 233542.44047993908\n",
      "День зимы #42, РТС - 269630.0410418933\n",
      "День зимы #43, РТС - 310570.52005033335\n",
      "День зимы #44, РТС - 356934.5577507179\n",
      "День зимы #45, РТС - 409351.8139163362\n",
      "День зимы #46, РТС - 468516.293765806\n",
      "День зимы #47, РТС - 535192.1431423789\n",
      "День зимы #48, РТС - 610219.9030395857\n",
      "День зимы #49, РТС - 694523.2553819701\n",
      "День зимы #50, РТС - 789116.2939105198\n",
      "День зимы #51, РТС - 895111.3560509213\n",
      "День зимы #52, РТС - 1013727.4537703224\n",
      "День зимы #53, РТС - 1146299.3436956569\n",
      "День зимы #54, РТС - 1294287.2790985575\n",
      "День зимы #55, РТС - 1459287.4888628013\n",
      "День зимы #56, РТС - 1643043.4311315292\n",
      "День зимы #57, РТС - 1847457.872079341\n",
      "День зимы #58, РТС - 2074605.8431257494\n",
      "День зимы #59, РТС - 2326748.532908804\n",
      "День зимы #60, РТС - 2606348.1735094404\n",
      "День зимы #61, РТС - 2916083.9837258314\n",
      "День зимы #62, РТС - 3258869.2356646317\n",
      "День зимы #63, РТС - 3637869.514563204\n",
      "День зимы #64, РТС - 4056522.24556303\n",
      "День зимы #65, РТС - 4518557.5651591215\n",
      "День зимы #66, РТС - 5028020.619206878\n",
      "День зимы #67, РТС - 5589295.373777134\n",
      "День зимы #68, РТС - 6207130.029685592\n",
      "День зимы #69, РТС - 6886664.136362438\n",
      "День зимы #70, РТС - 7633457.505684897\n",
      "День зимы #71, РТС - 8453521.03167267\n",
      "День зимы #72, РТС - 9353349.527394012\n",
      "День зимы #73, РТС - 10339956.696150519\n",
      "День зимы #74, РТС - 11420912.360010957\n",
      "День зимы #75, РТС - 12604382.074944582\n",
      "День зимы #76, РТС - 13899169.268385783\n",
      "День зимы #77, РТС - 15314760.041808054\n",
      "День зимы #78, РТС - 16861370.788016994\n",
      "День зимы #79, РТС - 18549998.78022557\n",
      "День зимы #80, РТС - 20392475.897782654\n",
      "День зимы #81, РТС - 22401525.661373615\n",
      "День зимы #82, РТС - 24590823.758958388\n",
      "День зимы #83, РТС - 26975062.2525016\n",
      "День зимы #84, РТС - 29570017.664570086\n",
      "День зимы #85, РТС - 32392623.153445423\n",
      "День зимы #86, РТС - 35461044.995288044\n",
      "День зимы #87, РТС - 38794763.602113605\n",
      "День зимы #88, РТС - 42414659.31520626\n",
      "День зимы #89, РТС - 46343103.22460535\n",
      "День зимы #90, РТС - 50604053.27704677\n",
      "День зимы #91, РТС - 55223155.9467081\n",
      "День зимы #92, РТС - 60227853.75582322\n",
      "День зимы #93, РТС - 65647498.94514077\n",
      "День зимы #94, РТС - 71513473.60798025\n",
      "День зимы #95, РТС - 77859316.61555196\n",
      "День зимы #96, РТС - 84720857.6761608\n",
      "День зимы #97, РТС - 92136358.88592485\n",
      "День зимы #98, РТС - 100146664.1446587\n"
     ]
    }
   ],
   "source": [
    "# Так как лучший результат был третьей модели с ней и спрогнозируем РТС на зиму\n",
    "winter_days = np.asarray(range(243,342))\n",
    "final_df = pd.DataFrame(data=zip(winter_days, winter_total_cases, winter_new_cases), \n",
    "                        columns=['date','total_cases','new_cases'])\n",
    "\n",
    "winter_result = polyreg.predict(final_df)\n",
    "for i,j in enumerate(winter_result):\n",
    "    print(f'День зимы #{i}, РТС - {j}')"
   ]
  },
  {
   "cell_type": "code",
   "execution_count": 145,
   "metadata": {},
   "outputs": [
    {
     "data": {
      "text/plain": [
       "[<matplotlib.lines.Line2D at 0x7fe1c4219430>]"
      ]
     },
     "execution_count": 145,
     "metadata": {},
     "output_type": "execute_result"
    },
    {
     "data": {
      "image/png": "[encoded data removed]",
      "text/plain": [
       "<Figure size 432x288 with 1 Axes>"
      ]
     },
     "metadata": {
      "needs_background": "light"
     },
     "output_type": "display_data"
    }
   ],
   "source": [
    "# К весне заживем\n",
    "plt.figure()\n",
    "plt.plot(range(0,99), winter_result)"
   ]
  },
  {
   "cell_type": "markdown",
   "metadata": {},
   "source": [
    "# Выводы"
   ]
  },
  {
   "cell_type": "markdown",
   "metadata": {},
   "source": [
    "1. Полиномиальные модели показали себя польностью лучше, линейных\n",
    "\n",
    "2. Прогноз заболевших от дней строится предельно точно, но точен для прогнозирования на ближайшие дни, чем более дальний день прогнозируем, чем ниже качество отчета, тем не менее моделями можно пользоваться\n",
    "\n",
    "3. РТС точнее всего прогнозируется от даты и новых кейсов и суммартных кейсов (то есть от всего), но разница в точности мала.\n",
    "\n",
    "4. Все модели по РТС имеют низкую точность\n",
    "\n",
    "5. В прогнозировании РТС недостаточно данных, это заметно на кривой обучения - явно видно недообучение"
   ]
  },
  {
   "cell_type": "code",
   "execution_count": null,
   "metadata": {},
   "outputs": [],
   "source": []
  }
 ],
 "metadata": {
  "kernelspec": {
   "display_name": "Python 3",
   "language": "python",
   "name": "python3"
  },
  "language_info": {
   "codemirror_mode": {
    "name": "ipython",
    "version": 3
   },
   "file_extension": ".py",
   "mimetype": "text/x-python",
   "name": "python",
   "nbconvert_exporter": "python",
   "pygments_lexer": "ipython3",
   "version": "3.8.2"
  }
 },
 "nbformat": 4,
 "nbformat_minor": 4
}
