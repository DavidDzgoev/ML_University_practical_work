{
 "cells": [
  {
   "cell_type": "code",
   "execution_count": 1,
   "metadata": {},
   "outputs": [],
   "source": [
    "import pandas as pd\n",
    "import numpy as np\n",
    "import matplotlib.pyplot as plt\n",
    "import seaborn as sns\n",
    "\n",
    "from pprint import pprint\n",
    "\n",
    "from sklearn.datasets import fetch_20newsgroups\n",
    "from sklearn.feature_extraction.text import TfidfVectorizer, CountVectorizer\n",
    "from sklearn import metrics\n",
    "from sklearn.naive_bayes import MultinomialNB\n",
    "from sklearn.metrics import f1_score\n",
    "import sklearn as sk\n"
   ]
  },
  {
   "cell_type": "code",
   "execution_count": 2,
   "metadata": {},
   "outputs": [
    {
     "name": "stdout",
     "output_type": "stream",
     "text": [
      "20\n",
      "['alt.atheism',\n",
      " 'comp.graphics',\n",
      " 'comp.os.ms-windows.misc',\n",
      " 'comp.sys.ibm.pc.hardware',\n",
      " 'comp.sys.mac.hardware',\n",
      " 'comp.windows.x',\n",
      " 'misc.forsale',\n",
      " 'rec.autos',\n",
      " 'rec.motorcycles',\n",
      " 'rec.sport.baseball',\n",
      " 'rec.sport.hockey',\n",
      " 'sci.crypt',\n",
      " 'sci.electronics',\n",
      " 'sci.med',\n",
      " 'sci.space',\n",
      " 'soc.religion.christian',\n",
      " 'talk.politics.guns',\n",
      " 'talk.politics.mideast',\n",
      " 'talk.politics.misc',\n",
      " 'talk.religion.misc']\n"
     ]
    }
   ],
   "source": [
    "news = fetch_20newsgroups(subset='all')\n",
    "\n",
    "# Да их действительно 20\n",
    "print(len(news.target_names))\n",
    "pprint(list(news.target_names))"
   ]
  },
  {
   "cell_type": "code",
   "execution_count": 3,
   "metadata": {},
   "outputs": [],
   "source": [
    "news_df = list(zip(news.data, news.target))\n",
    "news_df = pd.DataFrame(data=news_df, columns=['news', 'target'])"
   ]
  },
  {
   "cell_type": "code",
   "execution_count": 4,
   "metadata": {},
   "outputs": [
    {
     "data": {
      "image/png": "[encoded data removed]",
      "text/plain": [
       "<Figure size 576x288 with 1 Axes>"
      ]
     },
     "metadata": {
      "needs_background": "light"
     },
     "output_type": "display_data"
    }
   ],
   "source": [
    "count_target = news_df['target'].value_counts()\n",
    "\n",
    "plt.figure(figsize=(8,4))\n",
    "sns.barplot(x=count_target.index, y=count_target.values, alpha=0.8)\n",
    "plt.ylabel('Number of Occurrences', fontsize=12)\n",
    "plt.xlabel('Target', fontsize=12);"
   ]
  },
  {
   "cell_type": "code",
   "execution_count": 5,
   "metadata": {},
   "outputs": [
    {
     "name": "stdout",
     "output_type": "stream",
     "text": [
      "(18846,)\n",
      "(18846,)\n"
     ]
    }
   ],
   "source": [
    "print(news.filenames.shape)\n",
    "print(news.target.shape)"
   ]
  },
  {
   "cell_type": "code",
   "execution_count": 6,
   "metadata": {},
   "outputs": [
    {
     "name": "stdout",
     "output_type": "stream",
     "text": [
      "10\n",
      "From: dchhabra@stpl.ists.ca (Deepak Chhabra)\n",
      "Subject: Re: Atlanta Hockey Hell!!\n",
      "Nntp-Posting-Host: stpl.ists.ca\n",
      "Organization: Solar Terresterial Physics Laboratory, ISTS\n",
      "Lines: 24\n",
      "\n",
      "In article <0foVj7i00WB4MIUmht@andrew.cmu.edu> Mamatha Devineni Ratnam <mr47+@andrew.cmu.edu> writes:\n",
      ">\n",
      ">Well, it's not that bad. But I am still pretty pissed of at the\n",
      ">local ABC coverage. They cut off the first half hour of coverage by playing\n",
      "\n",
      "[stuff deleted]\n",
      "\n",
      "Ok, here's the solution to your problem.  Move to Canada.  Yesterday I was able\n",
      "to watch FOUR games...the NJ-PITT at 1:00 on ABC, LA-CAL at 3:00 (CBC), \n",
      "BUFF-BOS at 7:00 (TSN and FOX), and MON-QUE at 7:30 (CBC).  I think that if\n",
      "each series goes its max I could be watching hockey playoffs for 40-some odd\n",
      "consecutive nights (I haven't counted so that's a pure guess).\n",
      "\n",
      "I have two tv's in my house, and I set them up side-by-side to watch MON-QUE\n",
      "and keep an eye on BOS-BUFF at the same time.  I did the same for the two\n",
      "afternoon games.\n",
      "\n",
      "Btw, those ABC commentaters were great!  I was quite impressed; they seemed\n",
      "to know that their audience wasn't likely to be well-schooled in hockey lore\n",
      "and they did an excellent job.  They were quite impartial also, IMO.\n",
      "\n",
      "\n",
      "\n",
      "dchhabra@stpl.ists.ca (not suffering from a shortage of hockey here)\n",
      "\n"
     ]
    }
   ],
   "source": [
    "print(news.target[7])\n",
    "print(news.data[7])"
   ]
  },
  {
   "cell_type": "code",
   "execution_count": 7,
   "metadata": {},
   "outputs": [],
   "source": [
    "# Тренировочный набор\n",
    "news_train = fetch_20newsgroups(subset='train',\n",
    "                              remove=('headers', 'footers', 'quotes'))\n",
    "\n",
    "vectorizer = TfidfVectorizer() #CountVectorizer()\n",
    "vectors = vectorizer.fit_transform(news_train.data)"
   ]
  },
  {
   "cell_type": "code",
   "execution_count": 8,
   "metadata": {},
   "outputs": [
    {
     "name": "stdout",
     "output_type": "stream",
     "text": [
      "(11314, 101631)\n",
      "1103627\n",
      "97.54525366802191\n"
     ]
    }
   ],
   "source": [
    "# Получаем разряженную матрицу\n",
    "print(vectors.shape)\n",
    "\n",
    "# Ненулевые значения\n",
    "print(vectors.nnz)\n",
    "\n",
    "# В среднем слово встречается в новостях\n",
    "print(vectors.nnz / float(vectors.shape[0]))"
   ]
  },
  {
   "cell_type": "code",
   "execution_count": 9,
   "metadata": {},
   "outputs": [],
   "source": [
    "# Тестовый набор\n",
    "news_test = fetch_20newsgroups(subset='test',\n",
    "                              remove=('headers', 'footers', 'quotes'))\n",
    "vectors_test = vectorizer.transform(news_test.data)"
   ]
  },
  {
   "cell_type": "code",
   "execution_count": 10,
   "metadata": {},
   "outputs": [
    {
     "data": {
      "text/plain": [
       "MultinomialNB(alpha=0.01)"
      ]
     },
     "execution_count": 10,
     "metadata": {},
     "output_type": "execute_result"
    }
   ],
   "source": [
    "clf = MultinomialNB(alpha=.01)\n",
    "clf.fit(vectors, news_train.target)"
   ]
  },
  {
   "cell_type": "code",
   "execution_count": 11,
   "metadata": {},
   "outputs": [],
   "source": [
    "pred = clf.predict(vectors_test)"
   ]
  },
  {
   "cell_type": "code",
   "execution_count": 12,
   "metadata": {},
   "outputs": [
    {
     "data": {
      "text/plain": [
       "0.7002124269782263"
      ]
     },
     "execution_count": 12,
     "metadata": {},
     "output_type": "execute_result"
    }
   ],
   "source": [
    "# Общая достоверность предсказаний\n",
    "metrics.f1_score(news_test.target, pred, average='micro')"
   ]
  },
  {
   "cell_type": "code",
   "execution_count": 13,
   "metadata": {},
   "outputs": [
    {
     "data": {
      "text/plain": [
       "0.682861129525057"
      ]
     },
     "execution_count": 13,
     "metadata": {},
     "output_type": "execute_result"
    }
   ],
   "source": [
    "# Средняя достовреность предсказаний на столбец\n",
    "metrics.f1_score(news_test.target, pred, average='macro')"
   ]
  },
  {
   "cell_type": "code",
   "execution_count": 14,
   "metadata": {},
   "outputs": [],
   "source": [
    "def show_top10(classifier, vectorizer, categories):\n",
    "    feature_names = np.asarray(vectorizer.get_feature_names())\n",
    "    for i, category in enumerate(categories):\n",
    "        top10 = np.argsort(classifier.coef_[i])[-20:-10]\n",
    "        print(\"%s ---- %s\" % (category, \" \".join(feature_names[top10])))"
   ]
  },
  {
   "cell_type": "code",
   "execution_count": 15,
   "metadata": {},
   "outputs": [
    {
     "name": "stdout",
     "output_type": "stream",
     "text": [
      "alt.atheism ---- they do for what have as god this be are\n",
      "comp.graphics ---- be thanks image or can any have this on that\n",
      "comp.os.ms-windows.misc ---- but files this can on dos with have that in\n",
      "comp.sys.ibm.pc.hardware ---- controller bus this in my on card you that have\n",
      "comp.sys.mac.hardware ---- can drive my if this on have in you with\n",
      "comp.windows.x ---- be have with an can on that you server motif\n",
      "misc.forsale ---- please me is have new condition with you it of\n",
      "rec.autos ---- this with are was cars they my have for on\n",
      "rec.motorcycles ---- me your this dod have with was on is my\n",
      "rec.sport.baseball ---- be at you it baseball team have for his they\n",
      "rec.sport.hockey ---- players play be on they for it you is was\n",
      "sci.crypt ---- on not as chip they for you clipper encryption this\n",
      "sci.electronics ---- an there with or be if have are this on\n",
      "sci.med ---- but msg as have with my not for be are\n",
      "sci.space ---- would they are as this nasa was on you be\n",
      "soc.religion.christian ---- was jesus for as are this be he we not\n",
      "talk.politics.guns ---- guns be are as was not have for this they\n",
      "talk.politics.mideast ---- for jews were as was by they israeli are not\n",
      "talk.politics.misc ---- was people on we have they as for not this\n",
      "talk.religion.misc ---- for they was jesus this as be are he god\n"
     ]
    }
   ],
   "source": [
    "show_top10(clf, vectorizer, news_train.target_names)"
   ]
  },
  {
   "cell_type": "code",
   "execution_count": 16,
   "metadata": {},
   "outputs": [],
   "source": [
    "conf = pd.DataFrame(metrics.confusion_matrix(news_test.target, pred))"
   ]
  },
  {
   "cell_type": "code",
   "execution_count": 17,
   "metadata": {},
   "outputs": [],
   "source": [
    "def count_pn(conf):\n",
    "    measuring = []\n",
    "    ind = []\n",
    "    group = []\n",
    "    for i in conf.index:\n",
    "        n_sum = conf.iloc[i].sum() - conf.loc[i,i]\n",
    "        measuring.append(n_sum)\n",
    "        ind.append('n')\n",
    "        group.append(i)\n",
    "        \n",
    "        measuring.append(conf.loc[i,i])\n",
    "        ind.append('p')\n",
    "        group.append(i)\n",
    "    result = pd.DataFrame(zip(measuring, group, ind), columns=['measuring','group','ind'])\n",
    "    return result\n",
    "\n",
    "conf_df = count_pn(conf)"
   ]
  },
  {
   "cell_type": "code",
   "execution_count": 18,
   "metadata": {},
   "outputs": [
    {
     "data": {
      "text/plain": [
       "Text(0.5, 15.0, 'Предсказанные классы')"
      ]
     },
     "execution_count": 18,
     "metadata": {},
     "output_type": "execute_result"
    },
    {
     "data": {
      "image/png": "[encoded data removed]",
      "text/plain": [
       "<Figure size 432x288 with 2 Axes>"
      ]
     },
     "metadata": {
      "needs_background": "light"
     },
     "output_type": "display_data"
    }
   ],
   "source": [
    "# Красиво выведем результат\n",
    "sns.heatmap(pd.DataFrame(sk.metrics.confusion_matrix(news_test.target, pred)))\n",
    "plt.ylabel('Действительные классы')\n",
    "plt.xlabel('Предсказанные классы')"
   ]
  },
  {
   "cell_type": "code",
   "execution_count": 19,
   "metadata": {},
   "outputs": [
    {
     "data": {
      "text/plain": [
       "<Figure size 576x288 with 0 Axes>"
      ]
     },
     "metadata": {},
     "output_type": "display_data"
    },
    {
     "data": {
      "image/png": "[encoded data removed]",
      "text/plain": [
       "<Figure size 402.375x360 with 1 Axes>"
      ]
     },
     "metadata": {
      "needs_background": "light"
     },
     "output_type": "display_data"
    },
    {
     "name": "stdout",
     "output_type": "stream",
     "text": [
      "0 - alt.atheism\n",
      "1 - comp.graphics\n",
      "2 - comp.os.ms-windows.misc\n",
      "3 - comp.sys.ibm.pc.hardware\n",
      "4 - comp.sys.mac.hardware\n",
      "5 - comp.windows.x\n",
      "6 - misc.forsale\n",
      "7 - rec.autos\n",
      "8 - rec.motorcycles\n",
      "9 - rec.sport.baseball\n",
      "10 - rec.sport.hockey\n",
      "11 - sci.crypt\n",
      "12 - sci.electronics\n",
      "13 - sci.med\n",
      "14 - sci.space\n",
      "15 - soc.religion.christian\n",
      "16 - talk.politics.guns\n",
      "17 - talk.politics.mideast\n",
      "18 - talk.politics.misc\n",
      "19 - talk.religion.misc\n"
     ]
    }
   ],
   "source": [
    "plt.figure(figsize=(8,4))\n",
    "sns.catplot(data=conf_df, kind=\"bar\", x='group', y='measuring', hue='ind')\n",
    "plt.ylabel('Количество прогнозов', fontsize=12)\n",
    "plt.xlabel('Категория', fontsize=12);\n",
    "plt.show()\n",
    "\n",
    "for i, name in enumerate(news_train.target_names):\n",
    "    print(\"%s - %s\" % (i, name))"
   ]
  }
 ],
 "metadata": {
  "kernelspec": {
   "display_name": "Python 3",
   "language": "python",
   "name": "python3"
  },
  "language_info": {
   "codemirror_mode": {
    "name": "ipython",
    "version": 3
   },
   "file_extension": ".py",
   "mimetype": "text/x-python",
   "name": "python",
   "nbconvert_exporter": "python",
   "pygments_lexer": "ipython3",
   "version": "3.8.3"
  }
 },
 "nbformat": 4,
 "nbformat_minor": 4
}
